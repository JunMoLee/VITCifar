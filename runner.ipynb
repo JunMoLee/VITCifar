{
 "cells": [
  {
   "cell_type": "code",
   "execution_count": null,
   "metadata": {},
   "outputs": [
    {
     "name": "stdout",
     "output_type": "stream",
     "text": [
      "# Train Samples: 50000 | # Val Samples: 10000\n",
      "# Parameters: 1785610\n",
      "EPOCH: 0 | LRs: {0.0040000000000000036}\n",
      "(trn) LOSS: 2.09946 | METRIC: -0.20634\n",
      "(val) LOSS: 2.084683 | METRIC: -0.2531\n",
      "Runtime: 34\n",
      "EPOCH: 1 | LRs: {0.004262993820658631}\n",
      "(trn) LOSS: 1.971616 | METRIC: -0.26878\n",
      "(val) LOSS: 1.93951 | METRIC: -0.2724\n",
      "Runtime: 34\n",
      "EPOCH: 2 | LRs: {0.005049093376396807}\n",
      "(trn) LOSS: 1.928575 | METRIC: -0.28574\n",
      "(val) LOSS: 1.842729 | METRIC: -0.2899\n",
      "EPOCH: 3 | LRs: {0.006349684528648647}\n"
     ]
    }
   ],
   "source": [
    "!python train.py"
   ]
  },
  {
   "cell_type": "code",
   "execution_count": null,
   "metadata": {},
   "outputs": [],
   "source": []
  }
 ],
 "metadata": {
  "kernelspec": {
   "display_name": "Python 3",
   "language": "python",
   "name": "python3"
  },
  "language_info": {
   "codemirror_mode": {
    "name": "ipython",
    "version": 3
   },
   "file_extension": ".py",
   "mimetype": "text/x-python",
   "name": "python",
   "nbconvert_exporter": "python",
   "pygments_lexer": "ipython3",
   "version": "3.8.5"
  }
 },
 "nbformat": 4,
 "nbformat_minor": 4
}
